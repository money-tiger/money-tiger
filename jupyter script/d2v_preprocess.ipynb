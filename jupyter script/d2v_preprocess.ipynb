{
 "cells": [
  {
   "cell_type": "code",
   "execution_count": 15,
   "metadata": {},
   "outputs": [],
   "source": [
    "import numpy as np\n",
    "import pandas as pd\n",
    "import gensim\n",
    "import csv\n",
    "from gensim.models import Doc2Vec\n",
    "model_d2v = Doc2Vec.load('my_model.doc2vec')\n",
    "\n",
    "# enter filename\n",
    "filename = 'KLALIT'\n",
    "# enter the names of the text columns to be preprocesses by the doc2vec\n",
    "t_cols = ['תאור שירות', 'תאור ערעור']\n",
    "\n",
    "def replace_emptys(cell):\n",
    "    if isinstance(cell, float):\n",
    "        return 'ריק'\n",
    "    if cell == '':\n",
    "        return 'ריק'\n",
    "    if cell == None:\n",
    "        return 'ריק'\n",
    "    if pd.isnull(cell):\n",
    "        return 'ריק'\n",
    "    return cell\n",
    "\n",
    "\n",
    "def infer_cell(cell):\n",
    "    return model_d2v.infer_vector(cell.split(' ',1))\n"
   ]
  },
  {
   "cell_type": "code",
   "execution_count": 17,
   "metadata": {
    "scrolled": true
   },
   "outputs": [],
   "source": [
    "xl = pd.ExcelFile(filename+'.xlsx')\n",
    "df = xl.parse(xl.sheet_names[0])\n",
    "df2 = pd.DataFrame()\n",
    "for col in t_cols:\n",
    "    df2[col] = (df[col].apply(replace_emptys)).apply(infer_cell)\n"
   ]
  },
  {
   "cell_type": "code",
   "execution_count": 18,
   "metadata": {},
   "outputs": [],
   "source": [
    "for col in range(len(t_cols)):\n",
    "    with open(filename+'_tcol_'+str(col)+\".csv\", 'w') as myfile:\n",
    "        wr = csv.writer(myfile, quoting=csv.QUOTE_ALL, lineterminator='\\n')\n",
    "        for i in range(len(df2.index)):\n",
    "            wr.writerow(list(df2[t_cols[col]].loc[i]))\n"
   ]
  }
 ],
 "metadata": {
  "kernelspec": {
   "display_name": "Python 2",
   "language": "python",
   "name": "python2"
  },
  "language_info": {
   "codemirror_mode": {
    "name": "ipython",
    "version": 2
   },
   "file_extension": ".py",
   "mimetype": "text/x-python",
   "name": "python",
   "nbconvert_exporter": "python",
   "pygments_lexer": "ipython2",
   "version": "2.7.15"
  }
 },
 "nbformat": 4,
 "nbformat_minor": 2
}
